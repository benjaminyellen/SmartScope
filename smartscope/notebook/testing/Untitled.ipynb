{
 "cells": [
  {
   "cell_type": "code",
   "execution_count": 1,
   "metadata": {},
   "outputs": [],
   "source": [
    "\n",
    "import sys\n",
    "sys.path.append('C:\\\\Program Files\\\\Micro-Manager-2.0beta')\n",
    "from smartscope.source import sc_utils\n",
    "\n",
    "mmc= sc_utils.get_stage_controller(cfg='../../../config/scope_stage2.cfg')"
   ]
  },
  {
   "cell_type": "code",
   "execution_count": 2,
   "metadata": {},
   "outputs": [
    {
     "data": {
      "text/plain": [
       "(2688, 2200)"
      ]
     },
     "execution_count": 2,
     "metadata": {},
     "output_type": "execute_result"
    }
   ],
   "source": [
    "sc_utils.get_frame_size(sc_utils.start_cam())"
   ]
  },
  {
   "cell_type": "code",
   "execution_count": 3,
   "metadata": {},
   "outputs": [],
   "source": [
    "import serial\n",
    "mmc.setSerialPortCommand('COM6', bytearray.fromhex(\"4F203120300A453F0A\").decode(), \"\")\n",
    "# bytearray.fromhex(\"4F203120310A453F0A\").decode()"
   ]
  },
  {
   "cell_type": "code",
   "execution_count": 3,
   "metadata": {},
   "outputs": [],
   "source": [
    "mmc.setProperty('Thorlabs DC4100', 'Constant Current LED-3', 600)\n",
    "mmc.setProperty('Thorlabs DC4100', 'Constant Current LED-3', 'on')\n"
   ]
  },
  {
   "cell_type": "code",
   "execution_count": 9,
   "metadata": {},
   "outputs": [],
   "source": [
    "mmc.setProperty('Thorlabs DC4100', 'Limit Current LED-3', 1000)"
   ]
  },
  {
   "cell_type": "code",
   "execution_count": 5,
   "metadata": {},
   "outputs": [
    {
     "data": {
      "text/plain": [
       "('Constant Current LED-1',\n",
       " 'Constant Current LED-2',\n",
       " 'Constant Current LED-3',\n",
       " 'Constant Current LED-4',\n",
       " 'Description',\n",
       " 'Firmware Revision',\n",
       " 'Forward Bias LED-1',\n",
       " 'Forward Bias LED-2',\n",
       " 'Forward Bias LED-3',\n",
       " 'Forward Bias LED-4',\n",
       " 'Limit Current LED-1',\n",
       " 'Limit Current LED-2',\n",
       " 'Limit Current LED-3',\n",
       " 'Limit Current LED-4',\n",
       " 'Maximum Current LED-1',\n",
       " 'Maximum Current LED-2',\n",
       " 'Maximum Current LED-3',\n",
       " 'Maximum Current LED-4',\n",
       " 'Name',\n",
       " 'Operation Mode',\n",
       " 'Percental Brightness LED-1',\n",
       " 'Percental Brightness LED-2',\n",
       " 'Percental Brightness LED-3',\n",
       " 'Percental Brightness LED-4',\n",
       " 'Port',\n",
       " 'Serial Number',\n",
       " 'Serial Number LED-1',\n",
       " 'Serial Number LED-2',\n",
       " 'Serial Number LED-3',\n",
       " 'Serial Number LED-4',\n",
       " 'Status',\n",
       " 'Wavelength LED-1',\n",
       " 'Wavelength LED-2',\n",
       " 'Wavelength LED-3',\n",
       " 'Wavelength LED-4')"
      ]
     },
     "execution_count": 5,
     "metadata": {},
     "output_type": "execute_result"
    }
   ],
   "source": [
    "mmc.getDevicePropertyNames('Thorlabs DC4100')"
   ]
  },
  {
   "cell_type": "code",
   "execution_count": 78,
   "metadata": {},
   "outputs": [],
   "source": [
    "mmc.setProperty('Thorlabs DC4100', 'Forward Bias LED-1', 'Off')"
   ]
  },
  {
   "cell_type": "code",
   "execution_count": 87,
   "metadata": {},
   "outputs": [
    {
     "data": {
      "text/plain": [
       "'C:\\\\test\\\\is\\\\a'"
      ]
     },
     "execution_count": 87,
     "metadata": {},
     "output_type": "execute_result"
    }
   ],
   "source": [
    "model_dir = 'C:\\\\test\\\\is\\\\a\\\\test.py'\n",
    "import os\n",
    "os.path.dirname(model_dir)"
   ]
  },
  {
   "cell_type": "code",
   "execution_count": null,
   "metadata": {},
   "outputs": [
    {
     "name": "stdout",
     "output_type": "stream",
     "text": [
      "not blocked\n",
      "Got: b'ERROR 0:No Error.\\r\\n'\n",
      "not blocked\n",
      "not blocked\n",
      "not blocked\n",
      "not blocked\n",
      "not blocked\n",
      "not blocked\n",
      "not blocked\n",
      "not blocked\n",
      "not blocked\n",
      "not blocked\n",
      "not blocked\n",
      "not blocked\n",
      "not blocked\n"
     ]
    }
   ],
   "source": [
    "import serial\n",
    "import time\n",
    "\n",
    "port = \"COM6\"\n",
    "ser = serial.Serial(port, 115200, timeout=0)\n",
    "\n",
    "# ser.write('DC4104_getMaxLimit'.encode())\n",
    "ser.write(serial.to_bytes([0x4F,0x20,0x31,0x20,0x31,0x0A,0x45,0x3F,0x0A]))\n",
    "\n",
    "while True:\n",
    "    data = ser.read(9999)\n",
    "    if len(data) > 0:\n",
    "        print ('Got:', data)\n",
    "\n",
    "    time.sleep(0.5)\n",
    "    print ('not blocked')\n",
    "\n",
    "ser.close()"
   ]
  },
  {
   "cell_type": "code",
   "execution_count": 13,
   "metadata": {},
   "outputs": [
    {
     "data": {
      "text/plain": [
       "'O 1 1\\nE?\\n'"
      ]
     },
     "execution_count": 13,
     "metadata": {},
     "output_type": "execute_result"
    }
   ],
   "source": [
    "bytearray.fromhex(\"4F203120310A453F0A\").decode()"
   ]
  },
  {
   "cell_type": "code",
   "execution_count": null,
   "metadata": {},
   "outputs": [],
   "source": []
  }
 ],
 "metadata": {
  "kernelspec": {
   "display_name": "Python 3",
   "language": "python",
   "name": "python3"
  },
  "language_info": {
   "codemirror_mode": {
    "name": "ipython",
    "version": 3
   },
   "file_extension": ".py",
   "mimetype": "text/x-python",
   "name": "python",
   "nbconvert_exporter": "python",
   "pygments_lexer": "ipython3",
   "version": "3.6.8"
  }
 },
 "nbformat": 4,
 "nbformat_minor": 2
}
