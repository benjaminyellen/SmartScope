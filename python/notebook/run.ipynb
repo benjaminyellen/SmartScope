{
 "cells": [
  {
   "cell_type": "code",
   "execution_count": 1,
   "metadata": {},
   "outputs": [
    {
     "name": "stderr",
     "output_type": "stream",
     "text": [
      "Using TensorFlow backend.\n"
     ]
    },
    {
     "name": "stdout",
     "output_type": "stream",
     "text": [
      "Stage at: ( -15101.0 , 6358.5 )\n"
     ]
    }
   ],
   "source": [
    "import os\n",
    "import sys\n",
    "sys.path.append('../source/maskrcnn')\n",
    "sys.path.append('../source/dataset')\n",
    "sys.path.append('../source/miq')\n",
    "sys.path.append('../source')\n",
    "sys.path.append('C:\\\\Program Files\\\\Micro-Manager-2.0beta')\n",
    "\n",
    "import utils\n",
    "import model as modellib\n",
    "import visualize\n",
    "import config\n",
    "\n",
    "import mark_dataset\n",
    "import alignment\n",
    "import time\n",
    "\n",
    "import chip\n",
    "import position as pos\n",
    "import focus\n",
    "import sc_utils\n",
    "\n",
    "# Load a Micro-Manager instance\n",
    "mmc = sc_utils.get_mmc()\n",
    "print (\"Stage at: (\", mmc.getXPosition(), \n",
    "       \",\", mmc.getYPosition(), \")\")"
   ]
  },
  {
   "cell_type": "code",
   "execution_count": 2,
   "metadata": {},
   "outputs": [],
   "source": [
    "''' Name chip and give directory to save in '''\n",
    "chip_number = '0009' \n",
    "save_dir = 'C:\\\\Users\\\\cell_ml\\\\Desktop\\\\SC_WIN10\\\\Data\\\\' + chip_number\n",
    "os.makedirs(save_dir, exist_ok=True)"
   ]
  },
  {
   "cell_type": "markdown",
   "metadata": {},
   "source": [
    "## Auto-Alignment"
   ]
  },
  {
   "cell_type": "code",
   "execution_count": 3,
   "metadata": {},
   "outputs": [
    {
     "name": "stdout",
     "output_type": "stream",
     "text": [
      "WARNING:tensorflow:From C:\\Users\\cell_ml\\Miniconda3\\envs\\smartscope\\lib\\site-packages\\tensorflow\\python\\framework\\op_def_library.py:263: colocate_with (from tensorflow.python.framework.ops) is deprecated and will be removed in a future version.\n",
      "Instructions for updating:\n",
      "Colocations handled automatically by placer.\n",
      "WARNING:tensorflow:From ../source/maskrcnn\\model.py:772: to_float (from tensorflow.python.ops.math_ops) is deprecated and will be removed in a future version.\n",
      "Instructions for updating:\n",
      "Use tf.cast instead.\n",
      "Loading weights from  C:\\Users\\cell_ml\\Desktop\\SC_WIN10\\SmartScope\\python\\notebook\\adjusted_frame_alignment_20.h5\n"
     ]
    }
   ],
   "source": [
    "model = alignment.get_inference_model()"
   ]
  },
  {
   "cell_type": "code",
   "execution_count": null,
   "metadata": {},
   "outputs": [
    {
     "name": "stdout",
     "output_type": "stream",
     "text": [
      "(2200, 2688)\n",
      "Processing 1 images\n",
      "image                    shape: (2200, 2688, 3)       min:   16.00000  max:   64.00000  uint8\n",
      "molded_images            shape: (1, 1024, 1024, 3)    min: -123.70000  max:  -39.90000  float64\n",
      "image_metas              shape: (1, 14)               min:    0.00000  max: 2688.00000  float64\n",
      "anchors                  shape: (1, 261888, 4)        min:   -0.35390  max:    1.29134  float32\n",
      "WARNING:tensorflow:From C:\\Users\\cell_ml\\Miniconda3\\envs\\smartscope\\lib\\site-packages\\tensorflow\\python\\util\\dispatch.py:180: calling expand_dims (from tensorflow.python.ops.array_ops) with dim is deprecated and will be removed in a future version.\n",
      "Instructions for updating:\n",
      "Use the `axis` argument instead\n",
      "WARNING:tensorflow:From C:\\Users\\cell_ml\\Miniconda3\\envs\\smartscope\\lib\\site-packages\\tensorflow\\contrib\\layers\\python\\layers\\layers.py:1624: flatten (from tensorflow.python.layers.core) is deprecated and will be removed in a future version.\n",
      "Instructions for updating:\n",
      "Use keras.layers.flatten instead.\n",
      "WARNING:tensorflow:From C:\\Users\\cell_ml\\Miniconda3\\envs\\smartscope\\lib\\site-packages\\tensorflow\\python\\training\\saver.py:1266: checkpoint_exists (from tensorflow.python.training.checkpoint_management) is deprecated and will be removed in a future version.\n",
      "Instructions for updating:\n",
      "Use standard file APIs to check for files with this prefix.\n",
      "INFO:tensorflow:Restoring parameters from model.ckpt-1000042\n",
      "(2200, 2688)\n",
      "Processing 1 images\n",
      "image                    shape: (2200, 2688, 3)       min:   16.00000  max:   64.00000  uint8\n",
      "molded_images            shape: (1, 1024, 1024, 3)    min: -123.70000  max:  -39.90000  float64\n",
      "image_metas              shape: (1, 14)               min:    0.00000  max: 2688.00000  float64\n",
      "anchors                  shape: (1, 261888, 4)        min:   -0.35390  max:    1.29134  float32\n",
      "INFO:tensorflow:Restoring parameters from model.ckpt-1000042\n",
      "(2200, 2688)\n",
      "Processing 1 images\n",
      "image                    shape: (2200, 2688, 3)       min:   16.00000  max:   64.00000  uint8\n",
      "molded_images            shape: (1, 1024, 1024, 3)    min: -123.70000  max:  -39.90000  float64\n",
      "image_metas              shape: (1, 14)               min:    0.00000  max: 2688.00000  float64\n",
      "anchors                  shape: (1, 261888, 4)        min:   -0.35390  max:    1.29134  float32\n",
      "Time for alignment: 42.88924312591553\n",
      "INFO:tensorflow:Restoring parameters from model.ckpt-1000042\n",
      "Time for focus: 68.40098261833191\n"
     ]
    }
   ],
   "source": [
    "start = time.time()\n",
    "\n",
    "center, img, frame, r = alignment.find_alignment_mark(model)\n",
    "alignment.move_to_center(mmc, center)\n",
    "p1 = pos.StagePosition(x=mmc.getXPosition(),\n",
    "                       y=mmc.getYPosition())\n",
    "pos.set_pos(mmc, x=(p1.x - 25745.5),\n",
    "                 y=p1.y)\n",
    "pos.set_pos(mmc, z=focus.focus_point(mmc))\n",
    "\n",
    "center, img, frame, r = alignment.find_alignment_mark(model)\n",
    "alignment.move_to_center(mmc, center)\n",
    "p2 = pos.StagePosition(x=mmc.getXPosition(),\n",
    "                       y=mmc.getYPosition())\n",
    "pos.set_pos(mmc, x=(p2.x + 100.0),\n",
    "                 y=(p2.y - 9457.5))\n",
    "pos.set_pos(mmc, z=focus.focus_point(mmc))\n",
    "\n",
    "center, img, frame, r = alignment.find_alignment_mark(model)\n",
    "alignment.move_to_center(mmc, center)\n",
    "p3 = pos.StagePosition(x=mmc.getXPosition(),\n",
    "                       y=mmc.getYPosition())\n",
    "\n",
    "align_time = time.time()\n",
    "print ('Time for alignment:', align_time-start)\n",
    "\n",
    "# Create a Position List of the corners and save it\n",
    "corners = pos.PositionList(positions=[p1,p2,p3])\n",
    "corners.save(chip_number + '_corners', save_dir)\n",
    "# Create a chip instance and visualize the focus Position List \n",
    "current_chip = chip.Chip(corners)\n",
    "focus_pl = current_chip.get_focus_position_list(5,4)\n",
    "\n",
    "focused_pl = focus.focus_from_last_point(focus_pl, mmc)\n",
    "focused_pl.save(chip_number + '_focused', save_dir)\n",
    "\n",
    "focus_time = time.time()\n",
    "print ('Time for focus:', focus_time-align_time)\n",
    "\n",
    "imaging_pl = current_chip.get_position_list(focused_pl)\n",
    "imaging_pl.image(mmc, save_dir, save_jpg=False)\n",
    "\n",
    "end = time.time()\n",
    "print ('Time for imaging:', end-focus_time)\n",
    "print ('Total time:', end-start)\n"
   ]
  },
  {
   "cell_type": "markdown",
   "metadata": {},
   "source": [
    "## Load previously saved Positions"
   ]
  },
  {
   "cell_type": "code",
   "execution_count": 4,
   "metadata": {},
   "outputs": [],
   "source": [
    "current_chip = chip.Chip(pos.load('\\\\'+chip_number + '_corners', save_dir))\n",
    "focused_pl = pos.load('\\\\'+chip_number + '_focused', save_dir)\n",
    "imaging_pl = current_chip.get_position_list(focused_pl)\n",
    "imaging_pl.image(mmc, save_dir)"
   ]
  }
 ],
 "metadata": {
  "kernelspec": {
   "display_name": "Python 3",
   "language": "python",
   "name": "python3"
  },
  "language_info": {
   "codemirror_mode": {
    "name": "ipython",
    "version": 3
   },
   "file_extension": ".py",
   "mimetype": "text/x-python",
   "name": "python",
   "nbconvert_exporter": "python",
   "pygments_lexer": "ipython3",
   "version": "3.6.8"
  }
 },
 "nbformat": 4,
 "nbformat_minor": 2
}
