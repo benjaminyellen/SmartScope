{
 "cells": [
  {
   "cell_type": "code",
   "execution_count": 1,
   "metadata": {},
   "outputs": [
    {
     "name": "stderr",
     "output_type": "stream",
     "text": [
      "Using TensorFlow backend.\n"
     ]
    },
    {
     "name": "stdout",
     "output_type": "stream",
     "text": [
      "Stage at: ( 10049.4 , -3146.2000000000003 )\n"
     ]
    }
   ],
   "source": [
    "import os\n",
    "import sys\n",
    "sys.path.append('../source/maskrcnn')\n",
    "sys.path.append('../source/dataset')\n",
    "sys.path.append('../source/miq')\n",
    "sys.path.append('../source')\n",
    "\n",
    "import utils\n",
    "import model as modellib\n",
    "import visualize\n",
    "import config\n",
    "\n",
    "import mark_dataset\n",
    "import alignment\n",
    "import time\n",
    "\n",
    "import chip\n",
    "import position as pos\n",
    "import focus\n",
    "import sc_utils\n",
    "\n",
    "# Load a Micro-Manager instance\n",
    "mmc = sc_utils.get_mmc()\n",
    "print (\"Stage at: (\", mmc.getXPosition(), \n",
    "       \",\", mmc.getYPosition(), \")\")"
   ]
  },
  {
   "cell_type": "code",
   "execution_count": 2,
   "metadata": {},
   "outputs": [],
   "source": [
    "''' Name chip and give directory to save in '''\n",
    "chip_number = '0005'\n",
    "save_dir = '/home/cellcounter/data/' + chip_number + '/'\n",
    "os.makedirs(save_dir, exist_ok=True)"
   ]
  },
  {
   "cell_type": "markdown",
   "metadata": {},
   "source": [
    "## Auto-Alignment"
   ]
  },
  {
   "cell_type": "code",
   "execution_count": 3,
   "metadata": {},
   "outputs": [
    {
     "name": "stdout",
     "output_type": "stream",
     "text": [
      "WARNING:tensorflow:From /home/cellcounter/miniconda2/envs/Py36/lib/python3.6/site-packages/tensorflow/python/ops/sparse_ops.py:1165: sparse_to_dense (from tensorflow.python.ops.sparse_ops) is deprecated and will be removed in a future version.\n",
      "Instructions for updating:\n",
      "Create a `tf.sparse.SparseTensor` and use `tf.sparse.to_dense` instead.\n",
      "Loading weights from  /home/cellcounter/Downloads/Smart_Scope/python/notebook/adjusted_frame_alignment_20.h5\n"
     ]
    }
   ],
   "source": [
    "model = alignment.get_inference_model()"
   ]
  },
  {
   "cell_type": "code",
   "execution_count": 4,
   "metadata": {},
   "outputs": [
    {
     "name": "stdout",
     "output_type": "stream",
     "text": [
      "(2200, 2688)\n",
      "Processing 1 images\n",
      "image                    shape: (2200, 2688, 3)       min:   16.00000  max:   64.00000  uint8\n",
      "molded_images            shape: (1, 1024, 1024, 3)    min: -123.70000  max:  -39.90000  float64\n",
      "image_metas              shape: (1, 14)               min:    0.00000  max: 2688.00000  float64\n",
      "anchors                  shape: (1, 261888, 4)        min:   -0.35390  max:    1.29134  float32\n",
      "ran detect\n",
      "WARNING:tensorflow:From ../source/miq/prediction.py:201: calling expand_dims (from tensorflow.python.ops.array_ops) with dim is deprecated and will be removed in a future version.\n",
      "Instructions for updating:\n",
      "Use the `axis` argument instead\n",
      "INFO:tensorflow:Restoring parameters from model.ckpt-1000042\n",
      "(2200, 2688)\n",
      "Processing 1 images\n",
      "image                    shape: (2200, 2688, 3)       min:   16.00000  max:   80.00000  uint8\n",
      "molded_images            shape: (1, 1024, 1024, 3)    min: -123.70000  max:  -35.90000  float64\n",
      "image_metas              shape: (1, 14)               min:    0.00000  max: 2688.00000  float64\n",
      "anchors                  shape: (1, 261888, 4)        min:   -0.35390  max:    1.29134  float32\n",
      "ran detect\n",
      "INFO:tensorflow:Restoring parameters from model.ckpt-1000042\n",
      "(2200, 2688)\n",
      "Processing 1 images\n",
      "image                    shape: (2200, 2688, 3)       min:   16.00000  max:   64.00000  uint8\n",
      "molded_images            shape: (1, 1024, 1024, 3)    min: -123.70000  max:  -39.90000  float64\n",
      "image_metas              shape: (1, 14)               min:    0.00000  max: 2688.00000  float64\n",
      "anchors                  shape: (1, 261888, 4)        min:   -0.35390  max:    1.29134  float32\n",
      "ran detect\n",
      "Time for alignment: 55.91580939292908\n",
      "INFO:tensorflow:Restoring parameters from model.ckpt-1000042\n",
      "Time for focus: 66.46968364715576\n",
      "Time for imaging: 147.76512575149536\n",
      "Total time: 270.1506187915802\n"
     ]
    },
    {
     "data": {
      "image/png": "[encoded data removed]",
      "text/plain": [
       "<Figure size 432x288 with 1 Axes>"
      ]
     },
     "metadata": {
      "needs_background": "light"
     },
     "output_type": "display_data"
    }
   ],
   "source": [
    "start = time.time()\n",
    "\n",
    "center, img, frame, r = alignment.find_alignment_mark(model)\n",
    "alignment.move_to_center(mmc, center)\n",
    "p1 = pos.StagePosition(x=mmc.getXPosition(),\n",
    "                       y=mmc.getYPosition())\n",
    "pos.set_pos(mmc, x=(p1.x - 25745.5),\n",
    "                 y=p1.y)\n",
    "pos.set_pos(mmc, z=focus.focus_point(mmc))\n",
    "\n",
    "center, img, frame, r = alignment.find_alignment_mark(model)\n",
    "alignment.move_to_center(mmc, center)\n",
    "p2 = pos.StagePosition(x=mmc.getXPosition(),\n",
    "                       y=mmc.getYPosition())\n",
    "pos.set_pos(mmc, x=(p2.x + 100.0),\n",
    "                 y=(p2.y - 9457.5))\n",
    "pos.set_pos(mmc, z=focus.focus_point(mmc))\n",
    "\n",
    "center, img, frame, r = alignment.find_alignment_mark(model)\n",
    "alignment.move_to_center(mmc, center)\n",
    "p3 = pos.StagePosition(x=mmc.getXPosition(),\n",
    "                       y=mmc.getYPosition())\n",
    "\n",
    "align_time = time.time()\n",
    "print ('Time for alignment:', align_time-start)\n",
    "\n",
    "# Create a Position List of the corners and save it\n",
    "corners = pos.PositionList(positions=[p1,p2,p3])\n",
    "corners.save(chip_number + '_corners', save_dir)\n",
    "# Create a chip instance and visualize the focus Position List \n",
    "current_chip = chip.Chip(corners)\n",
    "focus_pl = current_chip.get_focus_position_list(5,4)\n",
    "\n",
    "focused_pl = focus.focus_from_last_point(focus_pl, mmc)\n",
    "focused_pl.save(chip_number + '_focused', save_dir)\n",
    "\n",
    "focus_time = time.time()\n",
    "print ('Time for focus:', focus_time-align_time)\n",
    "\n",
    "imaging_pl = current_chip.get_position_list(focused_pl)\n",
    "imaging_pl.image(mmc, save_dir)\n",
    "\n",
    "end = time.time()\n",
    "print ('Time for imaging:', end-focus_time)\n",
    "print ('Total time:', end-start)\n"
   ]
  },
  {
   "cell_type": "code",
   "execution_count": null,
   "metadata": {},
   "outputs": [],
   "source": []
  },
  {
   "cell_type": "code",
   "execution_count": null,
   "metadata": {},
   "outputs": [],
   "source": []
  }
 ],
 "metadata": {
  "kernelspec": {
   "display_name": "Python 3",
   "language": "python",
   "name": "python3"
  },
  "language_info": {
   "codemirror_mode": {
    "name": "ipython",
    "version": 3
   },
   "file_extension": ".py",
   "mimetype": "text/x-python",
   "name": "python",
   "nbconvert_exporter": "python",
   "pygments_lexer": "ipython3",
   "version": "3.6.8"
  }
 },
 "nbformat": 4,
 "nbformat_minor": 2
}
