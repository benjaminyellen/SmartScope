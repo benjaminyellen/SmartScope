{
 "cells": [
  {
   "cell_type": "code",
   "execution_count": 1,
   "metadata": {},
   "outputs": [
    {
     "name": "stderr",
     "output_type": "stream",
     "text": [
      "Using TensorFlow backend.\n"
     ]
    },
    {
     "name": "stdout",
     "output_type": "stream",
     "text": [
      "Stage at: ( 10306.5 , 6146.1 )\n"
     ]
    }
   ],
   "source": [
    "import os\n",
    "import sys\n",
    "sys.path.append('../source/maskrcnn')\n",
    "sys.path.append('../source/dataset')\n",
    "sys.path.append('../source/miq')\n",
    "sys.path.append('../source')\n",
    "sys.path.append('C:\\\\Program Files\\\\Micro-Manager-2.0beta')\n",
    "\n",
    "import utils\n",
    "import model as modellib\n",
    "import visualize\n",
    "import config\n",
    "\n",
    "from const import *\n",
    "import mark_dataset\n",
    "import alignment\n",
    "import time\n",
    "\n",
    "import chip\n",
    "import position as pos\n",
    "import focus\n",
    "import sc_utils\n",
    "\n",
    "# Load a Micro-Manager instance\n",
    "mmc = sc_utils.get_mmc()\n",
    "print (\"Stage at: (\", mmc.getXPosition(), \n",
    "       \",\", mmc.getYPosition(), \")\")"
   ]
  },
  {
   "cell_type": "code",
   "execution_count": 2,
   "metadata": {},
   "outputs": [],
   "source": [
    "''' Name chip and give directory to save in '''\n",
    "chip_number = '0009' \n",
    "save_dir = 'C:\\\\Users\\\\cell_ml\\\\Desktop\\\\SC_WIN10\\\\Data\\\\' + chip_number\n",
    "os.makedirs(save_dir, exist_ok=True)"
   ]
  },
  {
   "cell_type": "markdown",
   "metadata": {},
   "source": [
    "## Auto-Alignment"
   ]
  },
  {
   "cell_type": "code",
   "execution_count": 3,
   "metadata": {},
   "outputs": [
    {
     "name": "stdout",
     "output_type": "stream",
     "text": [
      "WARNING:tensorflow:From C:\\Users\\cell_ml\\Miniconda3\\envs\\smartscope\\lib\\site-packages\\tensorflow\\python\\framework\\op_def_library.py:263: colocate_with (from tensorflow.python.framework.ops) is deprecated and will be removed in a future version.\n",
      "Instructions for updating:\n",
      "Colocations handled automatically by placer.\n",
      "WARNING:tensorflow:From ../source/maskrcnn\\model.py:772: to_float (from tensorflow.python.ops.math_ops) is deprecated and will be removed in a future version.\n",
      "Instructions for updating:\n",
      "Use tf.cast instead.\n",
      "Loading weights from  C:\\Users\\cell_ml\\Documents\\SmartScope\\python\\notebook\\alignment_30.h5\n"
     ]
    }
   ],
   "source": [
    "model = alignment.get_inference_model()"
   ]
  },
  {
   "cell_type": "code",
   "execution_count": 4,
   "metadata": {},
   "outputs": [
    {
     "name": "stdout",
     "output_type": "stream",
     "text": [
      "(2200, 2688)\n",
      "Processing 1 images\n",
      "image                    shape: (2200, 2688, 3)       min:   16.00000  max:   64.00000  uint8\n",
      "molded_images            shape: (1, 1024, 1024, 3)    min: -123.70000  max:  -39.90000  float64\n",
      "image_metas              shape: (1, 14)               min:    0.00000  max: 2688.00000  float64\n",
      "anchors                  shape: (1, 261888, 4)        min:   -0.35390  max:    1.29134  float32\n",
      "WARNING:tensorflow:From C:\\Users\\cell_ml\\Miniconda3\\envs\\smartscope\\lib\\site-packages\\tensorflow\\python\\util\\dispatch.py:180: calling expand_dims (from tensorflow.python.ops.array_ops) with dim is deprecated and will be removed in a future version.\n",
      "Instructions for updating:\n",
      "Use the `axis` argument instead\n",
      "WARNING:tensorflow:From C:\\Users\\cell_ml\\Miniconda3\\envs\\smartscope\\lib\\site-packages\\tensorflow\\contrib\\layers\\python\\layers\\layers.py:1624: flatten (from tensorflow.python.layers.core) is deprecated and will be removed in a future version.\n",
      "Instructions for updating:\n",
      "Use keras.layers.flatten instead.\n",
      "WARNING:tensorflow:From C:\\Users\\cell_ml\\Miniconda3\\envs\\smartscope\\lib\\site-packages\\tensorflow\\python\\training\\saver.py:1266: checkpoint_exists (from tensorflow.python.training.checkpoint_management) is deprecated and will be removed in a future version.\n",
      "Instructions for updating:\n",
      "Use standard file APIs to check for files with this prefix.\n",
      "INFO:tensorflow:Restoring parameters from model.ckpt-1000042\n",
      "(2200, 2688)\n",
      "Processing 1 images\n",
      "image                    shape: (2200, 2688, 3)       min:   16.00000  max:   64.00000  uint8\n",
      "molded_images            shape: (1, 1024, 1024, 3)    min: -123.70000  max:  -39.90000  float64\n",
      "image_metas              shape: (1, 14)               min:    0.00000  max: 2688.00000  float64\n",
      "anchors                  shape: (1, 261888, 4)        min:   -0.35390  max:    1.29134  float32\n",
      "INFO:tensorflow:Restoring parameters from model.ckpt-1000042\n",
      "(2200, 2688)\n",
      "Processing 1 images\n",
      "image                    shape: (2200, 2688, 3)       min:   16.00000  max:   64.00000  uint8\n",
      "molded_images            shape: (1, 1024, 1024, 3)    min: -123.70000  max:  -39.90000  float64\n",
      "image_metas              shape: (1, 14)               min:    0.00000  max: 2688.00000  float64\n",
      "anchors                  shape: (1, 261888, 4)        min:   -0.35390  max:    1.29134  float32\n",
      "Time for alignment: 43.260236978530884\n",
      "INFO:tensorflow:Restoring parameters from model.ckpt-1000042\n",
      "Time for focus: 71.04388952255249\n"
     ]
    },
    {
     "ename": "TypeError",
     "evalue": "get_position_list() got an unexpected keyword argument 'camera_frame_width'",
     "output_type": "error",
     "traceback": [
      "\u001b[1;31m---------------------------------------------------------------------------\u001b[0m",
      "\u001b[1;31mTypeError\u001b[0m                                 Traceback (most recent call last)",
      "\u001b[1;32m<ipython-input-4-cfa9bef9d691>\u001b[0m in \u001b[0;36m<module>\u001b[1;34m\u001b[0m\n\u001b[0;32m     39\u001b[0m \u001b[1;33m\u001b[0m\u001b[0m\n\u001b[0;32m     40\u001b[0m imaging_pl = current_chip.get_position_list(focused_pl, camera_frame_width=FRAME_WIDTH,\n\u001b[1;32m---> 41\u001b[1;33m                                                         camera_frame_height=FRAME_HEIGHT)\n\u001b[0m\u001b[0;32m     42\u001b[0m \u001b[0mimaging_pl\u001b[0m\u001b[1;33m.\u001b[0m\u001b[0mimage\u001b[0m\u001b[1;33m(\u001b[0m\u001b[0mmmc\u001b[0m\u001b[1;33m,\u001b[0m \u001b[0msave_dir\u001b[0m\u001b[1;33m,\u001b[0m \u001b[0msave_jpg\u001b[0m\u001b[1;33m=\u001b[0m\u001b[1;32mFalse\u001b[0m\u001b[1;33m)\u001b[0m\u001b[1;33m\u001b[0m\u001b[1;33m\u001b[0m\u001b[0m\n\u001b[0;32m     43\u001b[0m \u001b[1;33m\u001b[0m\u001b[0m\n",
      "\u001b[1;31mTypeError\u001b[0m: get_position_list() got an unexpected keyword argument 'camera_frame_width'"
     ]
    }
   ],
   "source": [
    "start = time.time()\n",
    "\n",
    "center, img, frame, r = alignment.find_alignment_mark(model)\n",
    "alignment.move_to_center(mmc, center)\n",
    "p1 = pos.StagePosition(x=mmc.getXPosition(),\n",
    "                       y=mmc.getYPosition())\n",
    "pos.set_pos(mmc, x=(p1.x -CHIP_WIDTH),\n",
    "                 y=p1.y)\n",
    "pos.set_pos(mmc, z=focus.focus_point(mmc))\n",
    "\n",
    "center, img, frame, r = alignment.find_alignment_mark(model)\n",
    "alignment.move_to_center(mmc, center)\n",
    "p2 = pos.StagePosition(x=mmc.getXPosition(),\n",
    "                       y=mmc.getYPosition())\n",
    "pos.set_pos(mmc, x=(p2.x),\n",
    "                 y=(p2.y - CHIP_HEIGHT))\n",
    "pos.set_pos(mmc, z=focus.focus_point(mmc))\n",
    "\n",
    "center, img, frame, r = alignment.find_alignment_mark(model)\n",
    "alignment.move_to_center(mmc, center)\n",
    "p3 = pos.StagePosition(x=mmc.getXPosition(),\n",
    "                       y=mmc.getYPosition())\n",
    "\n",
    "align_time = time.time()\n",
    "print ('Time for alignment:', align_time-start)\n",
    "\n",
    "# Create a Position List of the corners and save it\n",
    "corners = pos.PositionList(positions=[p1,p2,p3])\n",
    "corners.save(chip_number + '_corners', save_dir)\n",
    "# Create a chip instance and visualize the focus Position List \n",
    "current_chip = chip.Chip(corners)\n",
    "focus_pl = current_chip.get_focus_position_list(5,4)\n",
    "\n",
    "focused_pl = focus.focus_from_last_point(focus_pl, mmc)\n",
    "focused_pl.save(chip_number + '_focused', save_dir)\n",
    "\n",
    "focus_time = time.time()\n",
    "print ('Time for focus:', focus_time-align_time)\n",
    "\n",
    "imaging_pl = current_chip.get_position_list(focused_pl, cam_frame_width=FRAME_WIDTH,\n",
    "                                                        cam_frame_height=FRAME_HEIGHT)\n",
    "imaging_pl.image(mmc, save_dir, save_jpg=False)\n",
    "\n",
    "end = time.time()\n",
    "print ('Time for imaging:', end-focus_time)\n",
    "print ('Total time:', end-start)\n"
   ]
  },
  {
   "cell_type": "markdown",
   "metadata": {},
   "source": [
    "## Load previously saved Positions"
   ]
  },
  {
   "cell_type": "code",
   "execution_count": 4,
   "metadata": {},
   "outputs": [],
   "source": [
    "current_chip = chip.Chip(pos.load('\\\\'+chip_number + '_corners', save_dir))\n",
    "focused_pl = pos.load('\\\\'+chip_number + '_focused', save_dir)\n",
    "imaging_pl = current_chip.get_position_list(focused_pl)\n",
    "imaging_pl.image(mmc, save_dir)"
   ]
  }
 ],
 "metadata": {
  "kernelspec": {
   "display_name": "Python 3",
   "language": "python",
   "name": "python3"
  },
  "language_info": {
   "codemirror_mode": {
    "name": "ipython",
    "version": 3
   },
   "file_extension": ".py",
   "mimetype": "text/x-python",
   "name": "python",
   "nbconvert_exporter": "python",
   "pygments_lexer": "ipython3",
   "version": "3.6.8"
  }
 },
 "nbformat": 4,
 "nbformat_minor": 2
}
