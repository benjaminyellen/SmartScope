{
 "cells": [
  {
   "cell_type": "code",
   "execution_count": 48,
   "metadata": {},
   "outputs": [],
   "source": [
    "import numpy as np\n",
    "def reorder(X):\n",
    "    ''' X is a list of positions '''\n",
    "    min_x = [X[0][0], 0]\n",
    "    min_y = [X[0][1], 0]\n",
    "    \n",
    "    for i, x in enumerate(X):\n",
    "        if x[0] < min_x[0]:\n",
    "            min_x = [x[0], i]\n",
    "        if x[1] < min_y[0]:\n",
    "            min_y = [x[1], i]\n",
    "            \n",
    "    if min_x[1] + min_y[1] == 1:\n",
    "        excluded = 2\n",
    "    elif min_x[1] + min_y[1] == 2:\n",
    "        excluded = 1\n",
    "    else:\n",
    "        excluded = 0\n",
    "    reord = np.array([X[excluded]])\n",
    "    reord = np.insert(reord, 0, X[min_x[1]])\n",
    "    print (reord)\n",
    "    reord = np.insert(reord, -1, X[min_y[1]])\n",
    "    print (excluded, min_x, min_y)\n",
    "    print (X[excluded], X[min_x[1]], X[min_y[1]])\n",
    "    return reord"
   ]
  },
  {
   "cell_type": "code",
   "execution_count": 49,
   "metadata": {},
   "outputs": [
    {
     "name": "stdout",
     "output_type": "stream",
     "text": [
      "[5, 0]\n",
      "[0 5 5 5]\n",
      "2 [0, 0] [0, 1]\n",
      "[5, 5] [0, 5] [5, 0]\n"
     ]
    },
    {
     "data": {
      "text/plain": [
       "array([0, 5, 5, 5, 0, 5])"
      ]
     },
     "execution_count": 49,
     "metadata": {},
     "output_type": "execute_result"
    }
   ],
   "source": [
    "X=[[0,5], [5,0], [5,5]]\n",
    "print (X[1])\n",
    "reorder(X)"
   ]
  },
  {
   "cell_type": "code",
   "execution_count": null,
   "metadata": {},
   "outputs": [],
   "source": [
    "def get_focus_pl(X):\n",
    "    # change basis\n",
    "    M = get_rotation_matrix()\n",
    "    x_rot\n",
    "    \n",
    "    "
   ]
  },
  {
   "cell_type": "code",
   "execution_count": 56,
   "metadata": {},
   "outputs": [
    {
     "name": "stdout",
     "output_type": "stream",
     "text": [
      "[2.82842712e+00 2.22044605e-16]\n",
      "[1.29289322 2.70710678]\n"
     ]
    }
   ],
   "source": [
    "x = [2,2]\n",
    "R = [[np.cos(np.pi/4), np.sin(np.pi/4)], [-np.sin(np.pi/4), np.cos(np.pi/4)]]\n",
    "xhat = np.matmul(R, x)\n",
    "print (xhat)\n",
    "xhat[1] = xhat[1] + 1\n",
    "point = np.matmul(np.linalg.inv(R), xhat)\n",
    "print (point)"
   ]
  },
  {
   "cell_type": "code",
   "execution_count": null,
   "metadata": {},
   "outputs": [],
   "source": []
  }
 ],
 "metadata": {
  "kernelspec": {
   "display_name": "Python 3",
   "language": "python",
   "name": "python3"
  },
  "language_info": {
   "codemirror_mode": {
    "name": "ipython",
    "version": 3
   },
   "file_extension": ".py",
   "mimetype": "text/x-python",
   "name": "python",
   "nbconvert_exporter": "python",
   "pygments_lexer": "ipython3",
   "version": "3.6.8"
  }
 },
 "nbformat": 4,
 "nbformat_minor": 2
}
